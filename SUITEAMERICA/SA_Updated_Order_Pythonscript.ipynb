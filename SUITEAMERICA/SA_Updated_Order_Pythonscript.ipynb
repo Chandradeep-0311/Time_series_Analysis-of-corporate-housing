{
 "cells": [
  {
   "cell_type": "code",
   "execution_count": 22,
   "metadata": {},
   "outputs": [],
   "source": [
    "import os\n",
    "import re\n",
    "import sys\n",
    "from datetime import datetime as dt\n",
    "import pandas as pd \n",
    "import numpy as np"
   ]
  },
  {
   "cell_type": "code",
   "execution_count": 23,
   "metadata": {},
   "outputs": [],
   "source": [
    "os.chdir('/Users/chanduboss/Desktop/SUITEAMERICA')\n",
    "SA_df = pd.read_csv(\"Ordersdata.csv\", header=0)"
   ]
  },
  {
   "cell_type": "markdown",
   "metadata": {},
   "source": [
    "''''''\n",
    "for i in range(SA_df.shape[0]):\n",
    "         print(i)\n",
    "         print(SA_df.iloc[i][1], type(SA_df.iloc[i][1]))\n",
    "    \n",
    "    try:\n",
    "        obj = dt.strptime(SA_df.iloc[i][1], '%Y-%m-%d')\n",
    "        print('\\t', end='')\n",
    "        print(obj, end=' ')\n",
    "        print(type(obj))\n",
    "        SA_df.iloc[i, 1] = obj\n",
    "    except:\n",
    "        \n",
    "        print(i)\n",
    "        print(SA_df.iloc[i][1])\n",
    "        pass\n",
    "''''''''"
   ]
  },
  {
   "cell_type": "code",
   "execution_count": 24,
   "metadata": {},
   "outputs": [
    {
     "name": "stdout",
     "output_type": "stream",
     "text": [
      "       Order#  MoveInDate MoveOutDate  DailyRent SuiteSizeCode  Status  \\\n",
      "0      285536  2015-09-14  2015-10-28      254.0           1X1  TERMED   \n",
      "1      289693  2015-10-16  2015-11-14      250.0           1X1  TERMED   \n",
      "2      354867  2018-02-25  2018-03-26        NaN           NaN  CANCEL   \n",
      "3      355682  2018-02-19  2018-03-02      197.0           1X1  TERMED   \n",
      "4      322147  2016-12-17  2017-02-28      148.0           1X1  TERMED   \n",
      "5      305710  2016-05-29  2016-06-27      219.0           1X1  TERMED   \n",
      "6      348736  2017-11-26         NaN        NaN           NaN  CANCEL   \n",
      "7      362371  2018-05-01  2018-05-21      202.0           1X1  ACTIVE   \n",
      "8      361210  2018-05-09  2018-06-07        0.0           NaN  CANCEL   \n",
      "9      326135  2017-03-21  2017-04-15      236.0           2X2  TERMED   \n",
      "10     350055  2017-11-30  2017-12-20      139.0           1X1  TERMED   \n",
      "11     345405  2017-10-28  2017-11-26      214.0           1X1  CANCEL   \n",
      "12     270557  2015-05-06  2015-05-13      195.0           NaN  TERMED   \n",
      "13     314291  2016-07-22  2016-07-22     2025.0           1X1  TERMED   \n",
      "14     263566  2015-01-15  2015-02-09      138.0           1X1  TERMED   \n",
      "15     341832  2017-08-19  2017-11-16      250.0           NaN  CANCEL   \n",
      "16     318877  2016-10-01  2016-10-30      230.0           2X2  TERMED   \n",
      "17     314899  2016-08-04  2016-08-07      182.0           1X1  TERMED   \n",
      "18     296457  2016-01-25  2016-02-23      160.0           1X1  TERMED   \n",
      "19     353983  2018-01-28  2018-02-26        NaN           NaN  CANCEL   \n",
      "20     342937  2017-09-04         NaN        NaN           NaN  CANCEL   \n",
      "21     323558  2017-01-08  2017-02-06      152.0           1X1  TERMED   \n",
      "22     351810  2018-01-08  2018-02-06        NaN           NaN  CANCEL   \n",
      "23     273682  2015-06-13  2015-06-14       75.0           NaN  TERMED   \n",
      "24     355340  2018-02-23  2018-03-24        NaN           NaN  CANCEL   \n",
      "25     358638  2018-03-23  2018-04-21        NaN           NaN  CANCEL   \n",
      "26     362279  2018-05-10  2018-08-19        0.0           NaN  CANCEL   \n",
      "27     288533  2015-09-26  2015-11-08      174.0           2X2  TERMED   \n",
      "28     305108  2016-05-16  2016-08-07        NaN           1X1  TERMED   \n",
      "29     352031  2018-01-20  2018-02-19      110.0           1X1  CANCEL   \n",
      "...       ...         ...         ...        ...           ...     ...   \n",
      "46820  259957  2014-12-09  2015-03-08      225.0           2X2  TERMED   \n",
      "46821  359688  2018-04-20  2018-12-21      211.0           NaN  CANCEL   \n",
      "46822  263455  2015-02-03  2015-03-31      183.0           STU  TERMED   \n",
      "46823  288143  2015-09-14  2015-09-25      159.0           NaN  TERMED   \n",
      "46824  280445  2015-07-24  2015-09-05      231.0           2X2  TERMED   \n",
      "46825  279312  2015-06-27  2015-08-10      157.0           NaN  TERMED   \n",
      "46826  309142  2016-05-27  2016-07-10      287.0           1X1  TERMED   \n",
      "46827  350706  2018-01-04  2018-04-03      202.0           NaN  CANCEL   \n",
      "46828  319245  2016-10-15  2016-11-13      151.0           1X1  TERMED   \n",
      "46829  316653  2016-08-22  2016-08-22     1400.0           1X1  TERMED   \n",
      "46830  356827  2018-03-10  2018-06-07      224.0           NaN  CANCEL   \n",
      "46831  317729  2016-10-07  2016-11-13      185.0           1X1  TERMED   \n",
      "46832  359912  2018-05-01  2018-05-30      162.0           NaN   QUOTE   \n",
      "46833  316006  2016-08-25  2016-10-26      242.0           1X1  TERMED   \n",
      "46834  340835  2017-08-04  2017-08-19      175.0           1X1  CANCEL   \n",
      "46835  296981  2016-01-07  2016-01-07     1000.0           1X1  TERMED   \n",
      "46836  297360  2016-02-10  2016-03-25      273.0           2X2  TERMED   \n",
      "46837  282289  2015-08-09  2015-09-07      295.0           2X2  TERMED   \n",
      "46838  356532  2018-03-10  2018-03-11      112.0           1X1  TERMED   \n",
      "46839  260580  2014-12-07  2015-01-20      199.0           NaN  TERMED   \n",
      "46840  361352  2018-05-29  2018-06-27        0.0           NaN  CANCEL   \n",
      "46841  355480  2018-03-06  2018-04-04      169.0           1X1  TERMED   \n",
      "46842  336951  2017-08-20         NaN      245.0           2X2  CANCEL   \n",
      "46843  359538  2018-04-15  2018-06-15      251.0           NaN  CANCEL   \n",
      "46844  351107  2018-01-11  2018-04-10        NaN           NaN  CANCEL   \n",
      "46845  340797  2017-08-17  2017-09-15      280.0           2X2  CANCEL   \n",
      "46846  357933  2018-07-07         NaN        NaN           NaN  CANCEL   \n",
      "46847  302249  2016-03-28  2016-04-27      121.0           1X1  TERMED   \n",
      "46848  343818  2017-10-04  2017-11-02      179.0           1X1  CANCEL   \n",
      "46849  350757  2017-12-10  2018-03-09      177.0           NaN  CANCEL   \n",
      "\n",
      "       ZoneCode           City  State  \n",
      "0           8.0  SAN FRANCISCO  US-CA  \n",
      "1           8.0  SAN FRANCISCO  US-CA  \n",
      "2           NaN            NaN    NaN  \n",
      "3           7.0      SAN MATEO  US-CA  \n",
      "4          46.0      HILLSBORO  US-OR  \n",
      "5           5.0      CUPERTINO  US-CA  \n",
      "6           NaN            NaN    NaN  \n",
      "7           5.0      SUNNYVALE  US-CA  \n",
      "8           NaN            NaN    NaN  \n",
      "9          26.0     WASHINGTON  US-DC  \n",
      "10          3.0        FREMONT  US-CA  \n",
      "11          5.0      SUNNYVALE  US-CA  \n",
      "12          NaN            NaN    NaN  \n",
      "13          5.0      CUPERTINO  US-CA  \n",
      "14         10.0      ARLINGTON  US-VA  \n",
      "15          NaN            NaN    NaN  \n",
      "16          5.0      CUPERTINO  US-CA  \n",
      "17          5.0      SUNNYVALE  US-CA  \n",
      "18         46.0       PORTLAND  US-OR  \n",
      "19          NaN            NaN    NaN  \n",
      "20          NaN            NaN    NaN  \n",
      "21         46.0       PORTLAND  US-OR  \n",
      "22          NaN            NaN    NaN  \n",
      "23          NaN            NaN    NaN  \n",
      "24          NaN            NaN    NaN  \n",
      "25          NaN            NaN    NaN  \n",
      "26          NaN            NaN    NaN  \n",
      "27         46.0       PORTLAND  US-OR  \n",
      "28          8.0  SAN FRANCISCO  US-CA  \n",
      "29         24.0         RESTON  US-VA  \n",
      "...         ...            ...    ...  \n",
      "46820       5.0      CUPERTINO  US-CA  \n",
      "46821       NaN            NaN    NaN  \n",
      "46822       8.0  SAN FRANCISCO  US-CA  \n",
      "46823       NaN            NaN    NaN  \n",
      "46824       4.0       CAMPBELL  US-CA  \n",
      "46825       NaN            NaN    NaN  \n",
      "46826      16.0   SANTA MONICA  US-CA  \n",
      "46827       NaN            NaN    NaN  \n",
      "46828      10.0      ARLINGTON  US-VA  \n",
      "46829       5.0      CUPERTINO  US-CA  \n",
      "46830       NaN            NaN    NaN  \n",
      "46831       7.0    FOSTER CITY  US-CA  \n",
      "46832       NaN            NaN    NaN  \n",
      "46833       8.0  SAN FRANCISCO  US-CA  \n",
      "46834       3.0        FREMONT  US-CA  \n",
      "46835       5.0      CUPERTINO  US-CA  \n",
      "46836       5.0      CUPERTINO  US-CA  \n",
      "46837       8.0  SAN FRANCISCO  US-CA  \n",
      "46838      27.0     SAN RAFAEL  US-CA  \n",
      "46839       NaN            NaN    NaN  \n",
      "46840       NaN            NaN    NaN  \n",
      "46841       1.0         DUBLIN  US-CA  \n",
      "46842       5.0      CUPERTINO  US-CA  \n",
      "46843       NaN            NaN    NaN  \n",
      "46844       NaN            NaN    NaN  \n",
      "46845       8.0  SAN FRANCISCO  US-CA  \n",
      "46846       NaN            NaN    NaN  \n",
      "46847      46.0       PORTLAND  US-OR  \n",
      "46848       5.0      SUNNYVALE  US-CA  \n",
      "46849       NaN            NaN    NaN  \n",
      "\n",
      "[46850 rows x 9 columns]\n"
     ]
    }
   ],
   "source": [
    "print(SA_df)\n",
    "# [46850 rows x 9 columns]"
   ]
  },
  {
   "cell_type": "code",
   "execution_count": 25,
   "metadata": {},
   "outputs": [
    {
     "name": "stdout",
     "output_type": "stream",
     "text": [
      "['Order#', 'MoveInDate', 'MoveOutDate', 'DailyRent', 'SuiteSizeCode', 'Status', 'ZoneCode', 'City', 'State']\n"
     ]
    }
   ],
   "source": [
    "columnNames = list(SA_df.columns.values)\n",
    "print(columnNames)"
   ]
  },
  {
   "cell_type": "code",
   "execution_count": 26,
   "metadata": {},
   "outputs": [
    {
     "data": {
      "text/html": [
       "<div>\n",
       "<style>\n",
       "    .dataframe thead tr:only-child th {\n",
       "        text-align: right;\n",
       "    }\n",
       "\n",
       "    .dataframe thead th {\n",
       "        text-align: left;\n",
       "    }\n",
       "\n",
       "    .dataframe tbody tr th {\n",
       "        vertical-align: top;\n",
       "    }\n",
       "</style>\n",
       "<table border=\"1\" class=\"dataframe\">\n",
       "  <thead>\n",
       "    <tr style=\"text-align: right;\">\n",
       "      <th></th>\n",
       "      <th>Order#</th>\n",
       "      <th>MoveInDate</th>\n",
       "      <th>MoveOutDate</th>\n",
       "      <th>DailyRent</th>\n",
       "      <th>SuiteSizeCode</th>\n",
       "      <th>Status</th>\n",
       "      <th>ZoneCode</th>\n",
       "      <th>City</th>\n",
       "      <th>State</th>\n",
       "    </tr>\n",
       "  </thead>\n",
       "  <tbody>\n",
       "    <tr>\n",
       "      <th>count</th>\n",
       "      <td>46850.000000</td>\n",
       "      <td>46777</td>\n",
       "      <td>43974</td>\n",
       "      <td>41806.000000</td>\n",
       "      <td>35213</td>\n",
       "      <td>46850</td>\n",
       "      <td>35075.000000</td>\n",
       "      <td>35180</td>\n",
       "      <td>35180</td>\n",
       "    </tr>\n",
       "    <tr>\n",
       "      <th>unique</th>\n",
       "      <td>NaN</td>\n",
       "      <td>1546</td>\n",
       "      <td>1524</td>\n",
       "      <td>NaN</td>\n",
       "      <td>38</td>\n",
       "      <td>6</td>\n",
       "      <td>NaN</td>\n",
       "      <td>409</td>\n",
       "      <td>46</td>\n",
       "    </tr>\n",
       "    <tr>\n",
       "      <th>top</th>\n",
       "      <td>NaN</td>\n",
       "      <td>2018-04-01</td>\n",
       "      <td>2018-06-30</td>\n",
       "      <td>NaN</td>\n",
       "      <td>1X1</td>\n",
       "      <td>TERMED</td>\n",
       "      <td>NaN</td>\n",
       "      <td>CUPERTINO</td>\n",
       "      <td>US-CA</td>\n",
       "    </tr>\n",
       "    <tr>\n",
       "      <th>freq</th>\n",
       "      <td>NaN</td>\n",
       "      <td>296</td>\n",
       "      <td>194</td>\n",
       "      <td>NaN</td>\n",
       "      <td>21828</td>\n",
       "      <td>29349</td>\n",
       "      <td>NaN</td>\n",
       "      <td>6376</td>\n",
       "      <td>24298</td>\n",
       "    </tr>\n",
       "    <tr>\n",
       "      <th>mean</th>\n",
       "      <td>323875.540406</td>\n",
       "      <td>NaN</td>\n",
       "      <td>NaN</td>\n",
       "      <td>286.298409</td>\n",
       "      <td>NaN</td>\n",
       "      <td>NaN</td>\n",
       "      <td>14.264918</td>\n",
       "      <td>NaN</td>\n",
       "      <td>NaN</td>\n",
       "    </tr>\n",
       "    <tr>\n",
       "      <th>std</th>\n",
       "      <td>31611.280139</td>\n",
       "      <td>NaN</td>\n",
       "      <td>NaN</td>\n",
       "      <td>421.372716</td>\n",
       "      <td>NaN</td>\n",
       "      <td>NaN</td>\n",
       "      <td>16.638506</td>\n",
       "      <td>NaN</td>\n",
       "      <td>NaN</td>\n",
       "    </tr>\n",
       "    <tr>\n",
       "      <th>min</th>\n",
       "      <td>5012.000000</td>\n",
       "      <td>NaN</td>\n",
       "      <td>NaN</td>\n",
       "      <td>0.000000</td>\n",
       "      <td>NaN</td>\n",
       "      <td>NaN</td>\n",
       "      <td>1.000000</td>\n",
       "      <td>NaN</td>\n",
       "      <td>NaN</td>\n",
       "    </tr>\n",
       "    <tr>\n",
       "      <th>25%</th>\n",
       "      <td>298285.250000</td>\n",
       "      <td>NaN</td>\n",
       "      <td>NaN</td>\n",
       "      <td>150.000000</td>\n",
       "      <td>NaN</td>\n",
       "      <td>NaN</td>\n",
       "      <td>5.000000</td>\n",
       "      <td>NaN</td>\n",
       "      <td>NaN</td>\n",
       "    </tr>\n",
       "    <tr>\n",
       "      <th>50%</th>\n",
       "      <td>334230.500000</td>\n",
       "      <td>NaN</td>\n",
       "      <td>NaN</td>\n",
       "      <td>192.000000</td>\n",
       "      <td>NaN</td>\n",
       "      <td>NaN</td>\n",
       "      <td>7.000000</td>\n",
       "      <td>NaN</td>\n",
       "      <td>NaN</td>\n",
       "    </tr>\n",
       "    <tr>\n",
       "      <th>75%</th>\n",
       "      <td>350816.750000</td>\n",
       "      <td>NaN</td>\n",
       "      <td>NaN</td>\n",
       "      <td>236.000000</td>\n",
       "      <td>NaN</td>\n",
       "      <td>NaN</td>\n",
       "      <td>10.000000</td>\n",
       "      <td>NaN</td>\n",
       "      <td>NaN</td>\n",
       "    </tr>\n",
       "    <tr>\n",
       "      <th>max</th>\n",
       "      <td>363867.000000</td>\n",
       "      <td>NaN</td>\n",
       "      <td>NaN</td>\n",
       "      <td>3000.000000</td>\n",
       "      <td>NaN</td>\n",
       "      <td>NaN</td>\n",
       "      <td>77.000000</td>\n",
       "      <td>NaN</td>\n",
       "      <td>NaN</td>\n",
       "    </tr>\n",
       "  </tbody>\n",
       "</table>\n",
       "</div>"
      ],
      "text/plain": [
       "               Order#  MoveInDate MoveOutDate     DailyRent SuiteSizeCode  \\\n",
       "count    46850.000000       46777       43974  41806.000000         35213   \n",
       "unique            NaN        1546        1524           NaN            38   \n",
       "top               NaN  2018-04-01  2018-06-30           NaN           1X1   \n",
       "freq              NaN         296         194           NaN         21828   \n",
       "mean    323875.540406         NaN         NaN    286.298409           NaN   \n",
       "std      31611.280139         NaN         NaN    421.372716           NaN   \n",
       "min       5012.000000         NaN         NaN      0.000000           NaN   \n",
       "25%     298285.250000         NaN         NaN    150.000000           NaN   \n",
       "50%     334230.500000         NaN         NaN    192.000000           NaN   \n",
       "75%     350816.750000         NaN         NaN    236.000000           NaN   \n",
       "max     363867.000000         NaN         NaN   3000.000000           NaN   \n",
       "\n",
       "        Status      ZoneCode       City  State  \n",
       "count    46850  35075.000000      35180  35180  \n",
       "unique       6           NaN        409     46  \n",
       "top     TERMED           NaN  CUPERTINO  US-CA  \n",
       "freq     29349           NaN       6376  24298  \n",
       "mean       NaN     14.264918        NaN    NaN  \n",
       "std        NaN     16.638506        NaN    NaN  \n",
       "min        NaN      1.000000        NaN    NaN  \n",
       "25%        NaN      5.000000        NaN    NaN  \n",
       "50%        NaN      7.000000        NaN    NaN  \n",
       "75%        NaN     10.000000        NaN    NaN  \n",
       "max        NaN     77.000000        NaN    NaN  "
      ]
     },
     "execution_count": 26,
     "metadata": {},
     "output_type": "execute_result"
    }
   ],
   "source": [
    "SA_df.to_csv('Ordersdata.csv',index=False)\n",
    "SA_df.describe(include='all')\n"
   ]
  },
  {
   "cell_type": "code",
   "execution_count": 27,
   "metadata": {},
   "outputs": [
    {
     "data": {
      "text/plain": [
       "<bound method DataFrame.info of        Order#  MoveInDate MoveOutDate  DailyRent SuiteSizeCode  Status  \\\n",
       "0      285536  2015-09-14  2015-10-28      254.0           1X1  TERMED   \n",
       "1      289693  2015-10-16  2015-11-14      250.0           1X1  TERMED   \n",
       "2      354867  2018-02-25  2018-03-26        NaN           NaN  CANCEL   \n",
       "3      355682  2018-02-19  2018-03-02      197.0           1X1  TERMED   \n",
       "4      322147  2016-12-17  2017-02-28      148.0           1X1  TERMED   \n",
       "5      305710  2016-05-29  2016-06-27      219.0           1X1  TERMED   \n",
       "6      348736  2017-11-26         NaN        NaN           NaN  CANCEL   \n",
       "7      362371  2018-05-01  2018-05-21      202.0           1X1  ACTIVE   \n",
       "8      361210  2018-05-09  2018-06-07        0.0           NaN  CANCEL   \n",
       "9      326135  2017-03-21  2017-04-15      236.0           2X2  TERMED   \n",
       "10     350055  2017-11-30  2017-12-20      139.0           1X1  TERMED   \n",
       "11     345405  2017-10-28  2017-11-26      214.0           1X1  CANCEL   \n",
       "12     270557  2015-05-06  2015-05-13      195.0           NaN  TERMED   \n",
       "13     314291  2016-07-22  2016-07-22     2025.0           1X1  TERMED   \n",
       "14     263566  2015-01-15  2015-02-09      138.0           1X1  TERMED   \n",
       "15     341832  2017-08-19  2017-11-16      250.0           NaN  CANCEL   \n",
       "16     318877  2016-10-01  2016-10-30      230.0           2X2  TERMED   \n",
       "17     314899  2016-08-04  2016-08-07      182.0           1X1  TERMED   \n",
       "18     296457  2016-01-25  2016-02-23      160.0           1X1  TERMED   \n",
       "19     353983  2018-01-28  2018-02-26        NaN           NaN  CANCEL   \n",
       "20     342937  2017-09-04         NaN        NaN           NaN  CANCEL   \n",
       "21     323558  2017-01-08  2017-02-06      152.0           1X1  TERMED   \n",
       "22     351810  2018-01-08  2018-02-06        NaN           NaN  CANCEL   \n",
       "23     273682  2015-06-13  2015-06-14       75.0           NaN  TERMED   \n",
       "24     355340  2018-02-23  2018-03-24        NaN           NaN  CANCEL   \n",
       "25     358638  2018-03-23  2018-04-21        NaN           NaN  CANCEL   \n",
       "26     362279  2018-05-10  2018-08-19        0.0           NaN  CANCEL   \n",
       "27     288533  2015-09-26  2015-11-08      174.0           2X2  TERMED   \n",
       "28     305108  2016-05-16  2016-08-07        NaN           1X1  TERMED   \n",
       "29     352031  2018-01-20  2018-02-19      110.0           1X1  CANCEL   \n",
       "...       ...         ...         ...        ...           ...     ...   \n",
       "46820  259957  2014-12-09  2015-03-08      225.0           2X2  TERMED   \n",
       "46821  359688  2018-04-20  2018-12-21      211.0           NaN  CANCEL   \n",
       "46822  263455  2015-02-03  2015-03-31      183.0           STU  TERMED   \n",
       "46823  288143  2015-09-14  2015-09-25      159.0           NaN  TERMED   \n",
       "46824  280445  2015-07-24  2015-09-05      231.0           2X2  TERMED   \n",
       "46825  279312  2015-06-27  2015-08-10      157.0           NaN  TERMED   \n",
       "46826  309142  2016-05-27  2016-07-10      287.0           1X1  TERMED   \n",
       "46827  350706  2018-01-04  2018-04-03      202.0           NaN  CANCEL   \n",
       "46828  319245  2016-10-15  2016-11-13      151.0           1X1  TERMED   \n",
       "46829  316653  2016-08-22  2016-08-22     1400.0           1X1  TERMED   \n",
       "46830  356827  2018-03-10  2018-06-07      224.0           NaN  CANCEL   \n",
       "46831  317729  2016-10-07  2016-11-13      185.0           1X1  TERMED   \n",
       "46832  359912  2018-05-01  2018-05-30      162.0           NaN   QUOTE   \n",
       "46833  316006  2016-08-25  2016-10-26      242.0           1X1  TERMED   \n",
       "46834  340835  2017-08-04  2017-08-19      175.0           1X1  CANCEL   \n",
       "46835  296981  2016-01-07  2016-01-07     1000.0           1X1  TERMED   \n",
       "46836  297360  2016-02-10  2016-03-25      273.0           2X2  TERMED   \n",
       "46837  282289  2015-08-09  2015-09-07      295.0           2X2  TERMED   \n",
       "46838  356532  2018-03-10  2018-03-11      112.0           1X1  TERMED   \n",
       "46839  260580  2014-12-07  2015-01-20      199.0           NaN  TERMED   \n",
       "46840  361352  2018-05-29  2018-06-27        0.0           NaN  CANCEL   \n",
       "46841  355480  2018-03-06  2018-04-04      169.0           1X1  TERMED   \n",
       "46842  336951  2017-08-20         NaN      245.0           2X2  CANCEL   \n",
       "46843  359538  2018-04-15  2018-06-15      251.0           NaN  CANCEL   \n",
       "46844  351107  2018-01-11  2018-04-10        NaN           NaN  CANCEL   \n",
       "46845  340797  2017-08-17  2017-09-15      280.0           2X2  CANCEL   \n",
       "46846  357933  2018-07-07         NaN        NaN           NaN  CANCEL   \n",
       "46847  302249  2016-03-28  2016-04-27      121.0           1X1  TERMED   \n",
       "46848  343818  2017-10-04  2017-11-02      179.0           1X1  CANCEL   \n",
       "46849  350757  2017-12-10  2018-03-09      177.0           NaN  CANCEL   \n",
       "\n",
       "       ZoneCode           City  State  \n",
       "0           8.0  SAN FRANCISCO  US-CA  \n",
       "1           8.0  SAN FRANCISCO  US-CA  \n",
       "2           NaN            NaN    NaN  \n",
       "3           7.0      SAN MATEO  US-CA  \n",
       "4          46.0      HILLSBORO  US-OR  \n",
       "5           5.0      CUPERTINO  US-CA  \n",
       "6           NaN            NaN    NaN  \n",
       "7           5.0      SUNNYVALE  US-CA  \n",
       "8           NaN            NaN    NaN  \n",
       "9          26.0     WASHINGTON  US-DC  \n",
       "10          3.0        FREMONT  US-CA  \n",
       "11          5.0      SUNNYVALE  US-CA  \n",
       "12          NaN            NaN    NaN  \n",
       "13          5.0      CUPERTINO  US-CA  \n",
       "14         10.0      ARLINGTON  US-VA  \n",
       "15          NaN            NaN    NaN  \n",
       "16          5.0      CUPERTINO  US-CA  \n",
       "17          5.0      SUNNYVALE  US-CA  \n",
       "18         46.0       PORTLAND  US-OR  \n",
       "19          NaN            NaN    NaN  \n",
       "20          NaN            NaN    NaN  \n",
       "21         46.0       PORTLAND  US-OR  \n",
       "22          NaN            NaN    NaN  \n",
       "23          NaN            NaN    NaN  \n",
       "24          NaN            NaN    NaN  \n",
       "25          NaN            NaN    NaN  \n",
       "26          NaN            NaN    NaN  \n",
       "27         46.0       PORTLAND  US-OR  \n",
       "28          8.0  SAN FRANCISCO  US-CA  \n",
       "29         24.0         RESTON  US-VA  \n",
       "...         ...            ...    ...  \n",
       "46820       5.0      CUPERTINO  US-CA  \n",
       "46821       NaN            NaN    NaN  \n",
       "46822       8.0  SAN FRANCISCO  US-CA  \n",
       "46823       NaN            NaN    NaN  \n",
       "46824       4.0       CAMPBELL  US-CA  \n",
       "46825       NaN            NaN    NaN  \n",
       "46826      16.0   SANTA MONICA  US-CA  \n",
       "46827       NaN            NaN    NaN  \n",
       "46828      10.0      ARLINGTON  US-VA  \n",
       "46829       5.0      CUPERTINO  US-CA  \n",
       "46830       NaN            NaN    NaN  \n",
       "46831       7.0    FOSTER CITY  US-CA  \n",
       "46832       NaN            NaN    NaN  \n",
       "46833       8.0  SAN FRANCISCO  US-CA  \n",
       "46834       3.0        FREMONT  US-CA  \n",
       "46835       5.0      CUPERTINO  US-CA  \n",
       "46836       5.0      CUPERTINO  US-CA  \n",
       "46837       8.0  SAN FRANCISCO  US-CA  \n",
       "46838      27.0     SAN RAFAEL  US-CA  \n",
       "46839       NaN            NaN    NaN  \n",
       "46840       NaN            NaN    NaN  \n",
       "46841       1.0         DUBLIN  US-CA  \n",
       "46842       5.0      CUPERTINO  US-CA  \n",
       "46843       NaN            NaN    NaN  \n",
       "46844       NaN            NaN    NaN  \n",
       "46845       8.0  SAN FRANCISCO  US-CA  \n",
       "46846       NaN            NaN    NaN  \n",
       "46847      46.0       PORTLAND  US-OR  \n",
       "46848       5.0      SUNNYVALE  US-CA  \n",
       "46849       NaN            NaN    NaN  \n",
       "\n",
       "[46850 rows x 9 columns]>"
      ]
     },
     "execution_count": 27,
     "metadata": {},
     "output_type": "execute_result"
    }
   ],
   "source": [
    "SA_df.info"
   ]
  },
  {
   "cell_type": "code",
   "execution_count": 28,
   "metadata": {},
   "outputs": [
    {
     "data": {
      "text/plain": [
       "pandas.core.series.Series"
      ]
     },
     "execution_count": 28,
     "metadata": {},
     "output_type": "execute_result"
    }
   ],
   "source": [
    "type(SA_df.MoveInDate)"
   ]
  },
  {
   "cell_type": "code",
   "execution_count": 29,
   "metadata": {},
   "outputs": [],
   "source": [
    "SA_df['MoveInDate']= SA_df['MoveInDate'].astype(str) "
   ]
  },
  {
   "cell_type": "code",
   "execution_count": 30,
   "metadata": {},
   "outputs": [
    {
     "data": {
      "text/plain": [
       "pandas.core.series.Series"
      ]
     },
     "execution_count": 30,
     "metadata": {},
     "output_type": "execute_result"
    }
   ],
   "source": [
    "type(SA_df.MoveInDate)"
   ]
  },
  {
   "cell_type": "code",
   "execution_count": 31,
   "metadata": {},
   "outputs": [],
   "source": [
    "SA_df.MoveInDate= pd.to_datetime(SA_df.MoveInDate)"
   ]
  },
  {
   "cell_type": "code",
   "execution_count": 32,
   "metadata": {},
   "outputs": [
    {
     "data": {
      "text/plain": [
       "Order#                    int64\n",
       "MoveInDate       datetime64[ns]\n",
       "MoveOutDate              object\n",
       "DailyRent               float64\n",
       "SuiteSizeCode            object\n",
       "Status                   object\n",
       "ZoneCode                float64\n",
       "City                     object\n",
       "State                    object\n",
       "dtype: object"
      ]
     },
     "execution_count": 32,
     "metadata": {},
     "output_type": "execute_result"
    }
   ],
   "source": [
    "SA_df.dtypes"
   ]
  },
  {
   "cell_type": "code",
   "execution_count": 33,
   "metadata": {},
   "outputs": [],
   "source": [
    "SA_df.MoveOutDate= pd.to_datetime(SA_df.MoveOutDate)"
   ]
  },
  {
   "cell_type": "code",
   "execution_count": 34,
   "metadata": {},
   "outputs": [
    {
     "data": {
      "text/plain": [
       "Order#                    int64\n",
       "MoveInDate       datetime64[ns]\n",
       "MoveOutDate      datetime64[ns]\n",
       "DailyRent               float64\n",
       "SuiteSizeCode            object\n",
       "Status                   object\n",
       "ZoneCode                float64\n",
       "City                     object\n",
       "State                    object\n",
       "dtype: object"
      ]
     },
     "execution_count": 34,
     "metadata": {},
     "output_type": "execute_result"
    }
   ],
   "source": [
    "SA_df.dtypes"
   ]
  },
  {
   "cell_type": "code",
   "execution_count": 35,
   "metadata": {},
   "outputs": [
    {
     "name": "stderr",
     "output_type": "stream",
     "text": [
      "/Users/chanduboss/anaconda/lib/python3.6/site-packages/ipykernel_launcher.py:1: SettingWithCopyWarning: \n",
      "A value is trying to be set on a copy of a slice from a DataFrame\n",
      "\n",
      "See the caveats in the documentation: http://pandas.pydata.org/pandas-docs/stable/indexing.html#indexing-view-versus-copy\n",
      "  \"\"\"Entry point for launching an IPython kernel.\n"
     ]
    }
   ],
   "source": [
    "SA_df.MoveInDate['Month']= SA_df.MoveInDate.dt.month "
   ]
  },
  {
   "cell_type": "code",
   "execution_count": null,
   "metadata": {},
   "outputs": [],
   "source": []
  },
  {
   "cell_type": "code",
   "execution_count": null,
   "metadata": {},
   "outputs": [],
   "source": []
  },
  {
   "cell_type": "code",
   "execution_count": null,
   "metadata": {},
   "outputs": [],
   "source": []
  },
  {
   "cell_type": "code",
   "execution_count": null,
   "metadata": {},
   "outputs": [],
   "source": []
  },
  {
   "cell_type": "code",
   "execution_count": 108,
   "metadata": {},
   "outputs": [
    {
     "ename": "AttributeError",
     "evalue": "'Series' object has no attribute 'strftime'",
     "output_type": "error",
     "traceback": [
      "\u001b[0;31m---------------------------------------------------------------------------\u001b[0m",
      "\u001b[0;31mAttributeError\u001b[0m                            Traceback (most recent call last)",
      "\u001b[0;32m<ipython-input-108-5442af3f9359>\u001b[0m in \u001b[0;36m<module>\u001b[0;34m()\u001b[0m\n\u001b[0;32m----> 1\u001b[0;31m \u001b[0mSA_df\u001b[0m\u001b[0;34m.\u001b[0m\u001b[0mMoveInDate\u001b[0m\u001b[0;34m.\u001b[0m\u001b[0mstrftime\u001b[0m\u001b[0;34m(\u001b[0m\u001b[0;34m'%Y-%m-%d,'\u001b[0m\u001b[0;34m)\u001b[0m\u001b[0;34m\u001b[0m\u001b[0m\n\u001b[0m",
      "\u001b[0;32m/Users/chanduboss/anaconda/lib/python3.6/site-packages/pandas/core/generic.py\u001b[0m in \u001b[0;36m__getattr__\u001b[0;34m(self, name)\u001b[0m\n\u001b[1;32m   2968\u001b[0m             \u001b[0;32mif\u001b[0m \u001b[0mname\u001b[0m \u001b[0;32min\u001b[0m \u001b[0mself\u001b[0m\u001b[0;34m.\u001b[0m\u001b[0m_info_axis\u001b[0m\u001b[0;34m:\u001b[0m\u001b[0;34m\u001b[0m\u001b[0m\n\u001b[1;32m   2969\u001b[0m                 \u001b[0;32mreturn\u001b[0m \u001b[0mself\u001b[0m\u001b[0;34m[\u001b[0m\u001b[0mname\u001b[0m\u001b[0;34m]\u001b[0m\u001b[0;34m\u001b[0m\u001b[0m\n\u001b[0;32m-> 2970\u001b[0;31m             \u001b[0;32mreturn\u001b[0m \u001b[0mobject\u001b[0m\u001b[0;34m.\u001b[0m\u001b[0m__getattribute__\u001b[0m\u001b[0;34m(\u001b[0m\u001b[0mself\u001b[0m\u001b[0;34m,\u001b[0m \u001b[0mname\u001b[0m\u001b[0;34m)\u001b[0m\u001b[0;34m\u001b[0m\u001b[0m\n\u001b[0m\u001b[1;32m   2971\u001b[0m \u001b[0;34m\u001b[0m\u001b[0m\n\u001b[1;32m   2972\u001b[0m     \u001b[0;32mdef\u001b[0m \u001b[0m__setattr__\u001b[0m\u001b[0;34m(\u001b[0m\u001b[0mself\u001b[0m\u001b[0;34m,\u001b[0m \u001b[0mname\u001b[0m\u001b[0;34m,\u001b[0m \u001b[0mvalue\u001b[0m\u001b[0;34m)\u001b[0m\u001b[0;34m:\u001b[0m\u001b[0;34m\u001b[0m\u001b[0m\n",
      "\u001b[0;31mAttributeError\u001b[0m: 'Series' object has no attribute 'strftime'"
     ]
    }
   ],
   "source": [
    "SA_df.MoveInDate.strftime('%Y-%m-%d,')"
   ]
  },
  {
   "cell_type": "code",
   "execution_count": 109,
   "metadata": {},
   "outputs": [
    {
     "ename": "NameError",
     "evalue": "name 'datetime' is not defined",
     "output_type": "error",
     "traceback": [
      "\u001b[0;31m---------------------------------------------------------------------------\u001b[0m",
      "\u001b[0;31mNameError\u001b[0m                                 Traceback (most recent call last)",
      "\u001b[0;32m<ipython-input-109-7ffbf4e1a4b5>\u001b[0m in \u001b[0;36m<module>\u001b[0;34m()\u001b[0m\n\u001b[0;32m----> 1\u001b[0;31m \u001b[0mdatetime\u001b[0m\u001b[0;34m.\u001b[0m\u001b[0mdatetime\u001b[0m\u001b[0;34m.\u001b[0m\u001b[0mstrptime\u001b[0m\u001b[0;34m(\u001b[0m\u001b[0mSA_df1\u001b[0m\u001b[0;34m,\u001b[0m \u001b[0;34m\"%Y-%m-%d\"\u001b[0m\u001b[0;34m)\u001b[0m\u001b[0;34m\u001b[0m\u001b[0m\n\u001b[0m",
      "\u001b[0;31mNameError\u001b[0m: name 'datetime' is not defined"
     ]
    }
   ],
   "source": [
    "datetime.datetime.strptime(SA_df1, \"%Y-%m-%d\")"
   ]
  },
  {
   "cell_type": "code",
   "execution_count": null,
   "metadata": {},
   "outputs": [],
   "source": []
  },
  {
   "cell_type": "code",
   "execution_count": null,
   "metadata": {},
   "outputs": [],
   "source": []
  },
  {
   "cell_type": "code",
   "execution_count": null,
   "metadata": {},
   "outputs": [],
   "source": []
  },
  {
   "cell_type": "code",
   "execution_count": null,
   "metadata": {},
   "outputs": [],
   "source": []
  },
  {
   "cell_type": "code",
   "execution_count": null,
   "metadata": {},
   "outputs": [],
   "source": []
  },
  {
   "cell_type": "code",
   "execution_count": null,
   "metadata": {},
   "outputs": [],
   "source": []
  },
  {
   "cell_type": "code",
   "execution_count": null,
   "metadata": {},
   "outputs": [],
   "source": []
  },
  {
   "cell_type": "code",
   "execution_count": null,
   "metadata": {},
   "outputs": [],
   "source": []
  },
  {
   "cell_type": "code",
   "execution_count": null,
   "metadata": {},
   "outputs": [],
   "source": []
  },
  {
   "cell_type": "code",
   "execution_count": null,
   "metadata": {},
   "outputs": [],
   "source": []
  },
  {
   "cell_type": "code",
   "execution_count": null,
   "metadata": {},
   "outputs": [],
   "source": []
  },
  {
   "cell_type": "code",
   "execution_count": null,
   "metadata": {},
   "outputs": [],
   "source": []
  },
  {
   "cell_type": "code",
   "execution_count": null,
   "metadata": {},
   "outputs": [],
   "source": []
  },
  {
   "cell_type": "code",
   "execution_count": null,
   "metadata": {},
   "outputs": [],
   "source": []
  },
  {
   "cell_type": "code",
   "execution_count": null,
   "metadata": {},
   "outputs": [],
   "source": []
  }
 ],
 "metadata": {
  "kernelspec": {
   "display_name": "Python 3",
   "language": "python",
   "name": "python3"
  },
  "language_info": {
   "codemirror_mode": {
    "name": "ipython",
    "version": 3
   },
   "file_extension": ".py",
   "mimetype": "text/x-python",
   "name": "python",
   "nbconvert_exporter": "python",
   "pygments_lexer": "ipython3",
   "version": "3.6.4"
  }
 },
 "nbformat": 4,
 "nbformat_minor": 2
}
